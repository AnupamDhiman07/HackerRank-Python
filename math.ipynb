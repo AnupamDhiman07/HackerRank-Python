{
  "nbformat": 4,
  "nbformat_minor": 0,
  "metadata": {
    "colab": {
      "provenance": []
    },
    "kernelspec": {
      "name": "python3",
      "display_name": "Python 3"
    },
    "language_info": {
      "name": "python"
    }
  },
  "cells": [
    {
      "cell_type": "markdown",
      "source": [
        "**POWER-MOD POWER**\n",
        "\n",
        "Powers or exponents in Python can be calculated using the built-in power function. Call the power function  as shown below:\n",
        "\n",
        "pow(a,b)\n",
        "\n",
        "It's also possible to calculate a**b mod m.\n",
        "\n",
        "pow(a,b,m)  \n",
        "This is very helpful in computations where you have to print the resultant % mod.\n",
        "\n",
        "**Task**\n",
        "\n",
        "You are given three integers: , , and . Print two lines.\n",
        "On the first line, print the result of pow(a,b). On the second line, print the result of pow(a,b,m)."
      ],
      "metadata": {
        "id": "-Pue9FoaKwCd"
      }
    },
    {
      "cell_type": "code",
      "execution_count": 1,
      "metadata": {
        "colab": {
          "base_uri": "https://localhost:8080/"
        },
        "id": "2KTVHeyhKp0C",
        "outputId": "28cee606-349d-4538-a5cd-c61b3d8fa94c"
      },
      "outputs": [
        {
          "output_type": "stream",
          "name": "stdout",
          "text": [
            "3\n",
            "4\n",
            "5\n",
            "81\n",
            "1\n"
          ]
        }
      ],
      "source": [
        "a = int(input())\n",
        "b = int(input())\n",
        "m = int(input())\n",
        "print(pow(a,b))\n",
        "print(pow(a,b,m))"
      ]
    },
    {
      "cell_type": "markdown",
      "source": [
        "**MOD-DIVMOD**\n",
        "\n",
        "**Task**\n",
        "\n",
        "Read in two integers, a and b, and print three lines.\n",
        "The first line is the integer division a/b\n",
        "The second line is the result of the modulo operator:a%b .\n",
        "The third line prints the divmod of a and b."
      ],
      "metadata": {
        "id": "M2h-PHdpL5oO"
      }
    },
    {
      "cell_type": "code",
      "source": [
        "a = int(input())\n",
        "b = int(input())\n",
        "print(a//b)\n",
        "print(a%b)\n",
        "print(divmod(a,b))"
      ],
      "metadata": {
        "colab": {
          "base_uri": "https://localhost:8080/"
        },
        "id": "0LREYtK3MF0u",
        "outputId": "5feb3597-01c5-4229-ae75-4a62f42528b2"
      },
      "execution_count": 2,
      "outputs": [
        {
          "output_type": "stream",
          "name": "stdout",
          "text": [
            "5\n",
            "3\n",
            "1\n",
            "2\n",
            "(1, 2)\n"
          ]
        }
      ]
    },
    {
      "cell_type": "markdown",
      "source": [
        "**INTEGER COME IN ALL SIZES**\n",
        "\n",
        "Read four numbers,a ,b ,c ,d and , and print the result of a* *b and c* *d."
      ],
      "metadata": {
        "id": "ruv0003nMTp8"
      }
    },
    {
      "cell_type": "code",
      "source": [
        "a,b,c,d = int(input()),int(input()),int(input()),int(input())\n",
        "print((a**b)+(c**d))"
      ],
      "metadata": {
        "colab": {
          "base_uri": "https://localhost:8080/"
        },
        "id": "mR3ukGrpMnv6",
        "outputId": "51ecd64f-2baa-465f-eb7f-277632f1bb3b"
      },
      "execution_count": 4,
      "outputs": [
        {
          "output_type": "stream",
          "name": "stdout",
          "text": [
            "9\n",
            "29\n",
            "7\n",
            "27\n",
            "4710194409608608369201743232\n"
          ]
        }
      ]
    },
    {
      "cell_type": "markdown",
      "source": [
        "**TRIANGLE QUEST**\n",
        "\n",
        "You are given a positive integerN . Print a numerical triangle of height N-1 like the one below:\n",
        "\n",
        "1\n",
        "\n",
        "22\n",
        "\n",
        "333\n",
        "\n",
        "4444\n",
        "\n",
        "55555\n",
        "\n",
        "......"
      ],
      "metadata": {
        "id": "vnldSYvuM7F2"
      }
    },
    {
      "cell_type": "code",
      "source": [
        "for i in range(1,int(input())):\n",
        "    print(i * (10**i//9))"
      ],
      "metadata": {
        "colab": {
          "base_uri": "https://localhost:8080/"
        },
        "id": "NjsF4eYaNEIj",
        "outputId": "ad722fb1-94ab-4699-9ca5-722b546bd31c"
      },
      "execution_count": 6,
      "outputs": [
        {
          "output_type": "stream",
          "name": "stdout",
          "text": [
            "7\n",
            "1\n",
            "22\n",
            "333\n",
            "4444\n",
            "55555\n",
            "666666\n"
          ]
        }
      ]
    },
    {
      "cell_type": "markdown",
      "source": [
        "**TRIANGLE QUEST 2**\n",
        "\n",
        "You are given a positive integer N.\n",
        "Your task is to print a palindromic triangle of size N.\n",
        "\n",
        "For example, a palindromic triangle of size 5 is:\n",
        "\n",
        "1\n",
        "121\n",
        "12321\n",
        "1234321\n",
        "123454321\n"
      ],
      "metadata": {
        "id": "rCR2ZmETNDgk"
      }
    },
    {
      "cell_type": "code",
      "source": [
        "for i in range(1,int(input())+1):\n",
        " print(((10**i)//9)**2)"
      ],
      "metadata": {
        "colab": {
          "base_uri": "https://localhost:8080/"
        },
        "id": "s44ykalmOGGC",
        "outputId": "a97bcd40-1a80-4efb-8aff-021f993ff0a8"
      },
      "execution_count": 7,
      "outputs": [
        {
          "output_type": "stream",
          "name": "stdout",
          "text": [
            "5\n",
            "1\n",
            "121\n",
            "12321\n",
            "1234321\n",
            "123454321\n"
          ]
        }
      ]
    },
    {
      "cell_type": "markdown",
      "source": [
        "**POLAR COORDINATES**\n",
        "\n",
        "You are given a complex z. Your task is to convert it to polar coordinates"
      ],
      "metadata": {
        "id": "rQ_rxdcqQKoq"
      }
    },
    {
      "cell_type": "code",
      "source": [
        "import cmath\n",
        "a = complex(input())\n",
        "print(abs(a))\n",
        "print(cmath.phase(a))"
      ],
      "metadata": {
        "colab": {
          "base_uri": "https://localhost:8080/"
        },
        "id": "gXwoyqMdQJzJ",
        "outputId": "070e2c22-dea3-49ad-a440-6ff2dccde9de"
      },
      "execution_count": 8,
      "outputs": [
        {
          "output_type": "stream",
          "name": "stdout",
          "text": [
            "1+2j\n",
            "2.23606797749979\n",
            "1.1071487177940904\n"
          ]
        }
      ]
    },
    {
      "cell_type": "markdown",
      "source": [
        "**Find angle MBC**\n",
        "\n",
        "angle ABC =90 DEGREE.\n",
        "\n",
        "Point M is the midpoint of hypotenuse AC.\n",
        "\n",
        "You are given the lengths AB and BC.\n",
        "Your task is to find Angle MBC."
      ],
      "metadata": {
        "id": "e_IfdjzwRDWn"
      }
    },
    {
      "cell_type": "code",
      "source": [
        "import math\n",
        "a = float(input())\n",
        "b = float(input())\n",
        "print(f'{round(math.degrees(math.atan2(a, b)))}{chr(176)}')"
      ],
      "metadata": {
        "colab": {
          "base_uri": "https://localhost:8080/"
        },
        "id": "BQLX8qd3RFof",
        "outputId": "ff985688-76c9-4820-abb1-4375a774ce08"
      },
      "execution_count": 10,
      "outputs": [
        {
          "output_type": "stream",
          "name": "stdout",
          "text": [
            "10\n",
            "10\n",
            "45°\n"
          ]
        }
      ]
    }
  ]
}