{
  "nbformat": 4,
  "nbformat_minor": 0,
  "metadata": {
    "colab": {
      "provenance": []
    },
    "kernelspec": {
      "name": "python3",
      "display_name": "Python 3"
    },
    "language_info": {
      "name": "python"
    }
  },
  "cells": [
    {
      "cell_type": "markdown",
      "source": [
        "***SWAPCASE ***\n",
        "\n",
        "You are given a string and your task is to swap cases. In other words, convert all lowercase letters to uppercase letters and vice versa"
      ],
      "metadata": {
        "id": "rujWbaHLdpXM"
      }
    },
    {
      "cell_type": "code",
      "source": [
        "def swap_case(s):\n",
        "  return s.swapcase()\n",
        "a = input(\"Enter the string: \")\n",
        "result = swap_case(a)\n",
        "print(result)"
      ],
      "metadata": {
        "colab": {
          "base_uri": "https://localhost:8080/"
        },
        "id": "dqwrAwn3du00",
        "outputId": "b25120c1-4380-4eb2-fc79-89f28264615f"
      },
      "execution_count": null,
      "outputs": [
        {
          "output_type": "stream",
          "name": "stdout",
          "text": [
            "Enter the string: anybody can learn python!\n",
            "ANYBODY CAN LEARN PYTHON!\n"
          ]
        }
      ]
    },
    {
      "cell_type": "markdown",
      "source": [
        "**WHAT'S YOUR NAME?**\n",
        "\n",
        "You are given the firstname and lastname of a person on two different lines. Your task is to read them and print the following:\n",
        "\n",
        "Hello firstname lastname! You just delved into python."
      ],
      "metadata": {
        "id": "15mW_whkfMLN"
      }
    },
    {
      "cell_type": "code",
      "source": [
        "def print_fullname(first, last):\n",
        "  print(f\"Hello {first} {last}! You just delved into python.\")\n",
        "first_name = input(\"Enter first name: \")\n",
        "last_name = input(\"Enter last name: \")\n",
        "print_fullname(first_name, last_name)"
      ],
      "metadata": {
        "colab": {
          "base_uri": "https://localhost:8080/"
        },
        "id": "fye5mglefTsb",
        "outputId": "f3ecff24-1637-4726-b443-f6a4740be114"
      },
      "execution_count": 1,
      "outputs": [
        {
          "output_type": "stream",
          "name": "stdout",
          "text": [
            "Enter first name: alison\n",
            "Enter last name: heck\n",
            "Hello alison heck! You just delved into python.\n"
          ]
        }
      ]
    },
    {
      "cell_type": "markdown",
      "source": [
        "**CAPITALIZE**\n",
        "\n",
        "You are asked to ensure that the first and last names of people begin with a capital letter in their passports. For example, alison heck should be capitalised correctly as Alison Heck."
      ],
      "metadata": {
        "id": "h9Pa_xnsgndC"
      }
    },
    {
      "cell_type": "code",
      "source": [
        "def capitalize(s):\n",
        "  return s.title()\n",
        "\n",
        "a = input(\"Enter full name: \")\n",
        "capitalize(a)"
      ],
      "metadata": {
        "colab": {
          "base_uri": "https://localhost:8080/",
          "height": 52
        },
        "id": "EveD7QopgtZC",
        "outputId": "24f8e917-72b5-41f0-af0a-2a90d538be71"
      },
      "execution_count": null,
      "outputs": [
        {
          "name": "stdout",
          "output_type": "stream",
          "text": [
            "Enter full name: alison heck\n"
          ]
        },
        {
          "output_type": "execute_result",
          "data": {
            "text/plain": [
              "'Alison Heck'"
            ],
            "application/vnd.google.colaboratory.intrinsic+json": {
              "type": "string"
            }
          },
          "metadata": {},
          "execution_count": 3
        }
      ]
    },
    {
      "cell_type": "code",
      "source": [
        "def solve(s):\n",
        "  for x in s[:].split():\n",
        "        s = s.replace(x, x.capitalize())\n",
        "  return s\n",
        "\n",
        "a = input(\"Enter full name: \")\n",
        "solve (a)"
      ],
      "metadata": {
        "colab": {
          "base_uri": "https://localhost:8080/",
          "height": 52
        },
        "id": "ZpvQ3WrfkOQ1",
        "outputId": "edc24448-ebca-4a54-b1c4-b22acc420a1a"
      },
      "execution_count": null,
      "outputs": [
        {
          "name": "stdout",
          "output_type": "stream",
          "text": [
            "Enter full name: alison heck\n"
          ]
        },
        {
          "output_type": "execute_result",
          "data": {
            "text/plain": [
              "'Alison Heck'"
            ],
            "application/vnd.google.colaboratory.intrinsic+json": {
              "type": "string"
            }
          },
          "metadata": {},
          "execution_count": 8
        }
      ]
    },
    {
      "cell_type": "markdown",
      "source": [
        "**STRING FORMATTING**\n",
        "\n",
        "Given an integer, n, print the following values for each integer  from 1 to n :\n",
        "\n",
        "1.Decimal\n",
        "2.Octal\n",
        "3.Hexadecimal (capitalized)\n",
        "4.Binary"
      ],
      "metadata": {
        "id": "9-ozwJak4FN9"
      }
    },
    {
      "cell_type": "code",
      "source": [
        "def print_formatted(number):\n",
        "  width = len(bin(n)[2:])\n",
        "  for i in range(1,n+1) :\n",
        "        print(f\"{str(i).rjust(width)} {str(oct(i))[2:].rjust(width)} {str(hex(i))[2:].rjust(width).upper()} {str(bin(i))[2:].rjust(width)}\")\n",
        "n = int(input())\n",
        "print_formatted(n)"
      ],
      "metadata": {
        "colab": {
          "base_uri": "https://localhost:8080/"
        },
        "id": "wOxJuZn6PkTE",
        "outputId": "5f8047c0-66eb-4b9c-b297-174386ea5b53"
      },
      "execution_count": null,
      "outputs": [
        {
          "output_type": "stream",
          "name": "stdout",
          "text": [
            "23\n",
            "    1     1     1     1\n",
            "    2     2     2    10\n",
            "    3     3     3    11\n",
            "    4     4     4   100\n",
            "    5     5     5   101\n",
            "    6     6     6   110\n",
            "    7     7     7   111\n",
            "    8    10     8  1000\n",
            "    9    11     9  1001\n",
            "   10    12     A  1010\n",
            "   11    13     B  1011\n",
            "   12    14     C  1100\n",
            "   13    15     D  1101\n",
            "   14    16     E  1110\n",
            "   15    17     F  1111\n",
            "   16    20    10 10000\n",
            "   17    21    11 10001\n",
            "   18    22    12 10010\n",
            "   19    23    13 10011\n",
            "   20    24    14 10100\n",
            "   21    25    15 10101\n",
            "   22    26    16 10110\n",
            "   23    27    17 10111\n"
          ]
        }
      ]
    },
    {
      "cell_type": "markdown",
      "source": [
        "**STRING SPLIT AND JOIN**\n",
        "\n",
        "You are given a string. Split the string on a \" \" (space) delimiter and join using a - hyphen."
      ],
      "metadata": {
        "id": "qSX3jxNTr2AS"
      }
    },
    {
      "cell_type": "code",
      "source": [
        "def split_and_join(line):\n",
        " line = line.split(\" \")\n",
        " line = \"-\".join(line)\n",
        " return line\n",
        "\n",
        "line = input(\"Enter the string: \")\n",
        "result = split_and_join(line)\n",
        "print(result)"
      ],
      "metadata": {
        "colab": {
          "base_uri": "https://localhost:8080/"
        },
        "id": "CXpNbFoyr-PC",
        "outputId": "0f10bae7-46e4-4734-e00a-bcb22b6d21ce"
      },
      "execution_count": 2,
      "outputs": [
        {
          "output_type": "stream",
          "name": "stdout",
          "text": [
            "Enter the string: This is a string\n",
            "This-is-a-string\n"
          ]
        }
      ]
    },
    {
      "cell_type": "markdown",
      "source": [
        "**MUTATIONS**\n",
        "\n",
        "Read a given string, change the character at a given index and then print the modified string."
      ],
      "metadata": {
        "id": "a2jOR5Gzse1B"
      }
    },
    {
      "cell_type": "code",
      "source": [
        "def mutate_string(string, position, character):\n",
        "    string = string[:position] + character + string[position+1:]\n",
        "    return string\n",
        "\n",
        "s = input(\"Enter the string: \")\n",
        "i, c = input(\"Enter the position and the character: \").split()\n",
        "s_new = mutate_string(s, int(i), c)\n",
        "print(s_new)"
      ],
      "metadata": {
        "colab": {
          "base_uri": "https://localhost:8080/"
        },
        "id": "itqOlSX_st62",
        "outputId": "aef88842-4c09-4751-be7c-4a0b26d45576"
      },
      "execution_count": 6,
      "outputs": [
        {
          "output_type": "stream",
          "name": "stdout",
          "text": [
            "Enter the string: abracadabra\n",
            "Enter the position and the character: 4 k\n",
            "abrakadabra\n"
          ]
        }
      ]
    },
    {
      "cell_type": "markdown",
      "source": [
        "**FIND A STRING**\n",
        "\n",
        "In this challenge, the user enters a string and a substring. You have to print the number of times that the substring occurs in the given string."
      ],
      "metadata": {
        "id": "CpGf4A1Ntquw"
      }
    },
    {
      "cell_type": "code",
      "source": [
        "def count_substring(string, sub_string):\n",
        "    count=0\n",
        "    for i in range(len(string)):\n",
        "        if string.find(sub_string,i)==i:\n",
        "            count+=1\n",
        "    return count\n",
        "\n",
        "string = input().strip()\n",
        "sub_string = input().strip()\n",
        "count = count_substring(string, sub_string)\n",
        "print(count)"
      ],
      "metadata": {
        "colab": {
          "base_uri": "https://localhost:8080/"
        },
        "id": "H_0QjvY6twBs",
        "outputId": "34e613d1-bd8b-488e-e928-510e86e0fa7c"
      },
      "execution_count": 7,
      "outputs": [
        {
          "output_type": "stream",
          "name": "stdout",
          "text": [
            "ABCDCDC\n",
            "CDC\n",
            "2\n"
          ]
        }
      ]
    },
    {
      "cell_type": "markdown",
      "source": [
        "**STRING VALIDATORS**\n",
        "\n",
        "You are given a string .\n",
        "Your task is to find out if the string  contains: alphanumeric characters, alphabetical characters, digits, lowercase and uppercase characters."
      ],
      "metadata": {
        "id": "CuarzyPzuLi0"
      }
    },
    {
      "cell_type": "code",
      "source": [
        "s = input()\n",
        "print(any(c.isalnum() for c in s))\n",
        "print(any(c.isalpha() for c in s))\n",
        "print(any(c.isdigit() for c in s))\n",
        "print(any(c.islower() for c in s))\n",
        "print(any(c.isupper() for c in s))"
      ],
      "metadata": {
        "colab": {
          "base_uri": "https://localhost:8080/"
        },
        "id": "gelDPaHJuPkl",
        "outputId": "380090c1-2d9a-434a-88fa-ba22b65bd441"
      },
      "execution_count": 8,
      "outputs": [
        {
          "output_type": "stream",
          "name": "stdout",
          "text": [
            "q2A\n",
            "True\n",
            "True\n",
            "True\n",
            "True\n",
            "True\n"
          ]
        }
      ]
    },
    {
      "cell_type": "markdown",
      "source": [
        "**TEXT ALIGNMENT**\n",
        "\n",
        "You are given a partial code that is used for generating the HackerRank Logo of variable thickness.\n",
        "Your task is to replace the blank (______) with rjust, ljust or center."
      ],
      "metadata": {
        "id": "g3HilQ1mutn1"
      }
    },
    {
      "cell_type": "code",
      "source": [
        "thickness = int(input()) #This must be an odd number\n",
        "c = 'H'\n",
        "\n",
        "#Top Cone\n",
        "for i in range(thickness):\n",
        "    print((c*i).rjust(thickness-1)+c+(c*i).ljust(thickness-1))\n",
        "\n",
        "#Top Pillars\n",
        "for i in range(thickness+1):\n",
        "    print((c*thickness).center(thickness*2)+(c*thickness).center(thickness*6))\n",
        "\n",
        "#Middle Belt\n",
        "for i in range((thickness+1)//2):\n",
        "    print((c*thickness*5).center(thickness*6))\n",
        "\n",
        "#Bottom Pillars\n",
        "for i in range(thickness+1):\n",
        "    print((c*thickness).center(thickness*2)+(c*thickness).center(thickness*6))\n",
        "\n",
        "#Bottom Cone\n",
        "for i in range(thickness):\n",
        "    print(((c*(thickness-i-1)).rjust(thickness)+c+(c*(thickness-i-1)).ljust(thickness)).rjust(thickness*6))"
      ],
      "metadata": {
        "colab": {
          "base_uri": "https://localhost:8080/"
        },
        "id": "F24ynwfYuzpv",
        "outputId": "2b077781-52d3-418e-8c47-c4ff18739064"
      },
      "execution_count": 9,
      "outputs": [
        {
          "output_type": "stream",
          "name": "stdout",
          "text": [
            "5\n",
            "    H    \n",
            "   HHH   \n",
            "  HHHHH  \n",
            " HHHHHHH \n",
            "HHHHHHHHH\n",
            "  HHHHH               HHHHH             \n",
            "  HHHHH               HHHHH             \n",
            "  HHHHH               HHHHH             \n",
            "  HHHHH               HHHHH             \n",
            "  HHHHH               HHHHH             \n",
            "  HHHHH               HHHHH             \n",
            "  HHHHHHHHHHHHHHHHHHHHHHHHH   \n",
            "  HHHHHHHHHHHHHHHHHHHHHHHHH   \n",
            "  HHHHHHHHHHHHHHHHHHHHHHHHH   \n",
            "  HHHHH               HHHHH             \n",
            "  HHHHH               HHHHH             \n",
            "  HHHHH               HHHHH             \n",
            "  HHHHH               HHHHH             \n",
            "  HHHHH               HHHHH             \n",
            "  HHHHH               HHHHH             \n",
            "                    HHHHHHHHH \n",
            "                     HHHHHHH  \n",
            "                      HHHHH   \n",
            "                       HHH    \n",
            "                        H     \n"
          ]
        }
      ]
    },
    {
      "cell_type": "markdown",
      "source": [
        "**TEXT WRAP**\n",
        "\n",
        "You are given a string  and width .\n",
        "Your task is to wrap the string into a paragraph of width ."
      ],
      "metadata": {
        "id": "V26pLk_avA8A"
      }
    },
    {
      "cell_type": "code",
      "source": [
        "import textwrap\n",
        "\n",
        "def wrap(string, max_width):\n",
        "    return textwrap.fill(string,max_width)\n",
        "\n",
        "string, max_width = input(\"Enter the string: \"), int(input(\"Enter string width: \"))\n",
        "result = wrap(string, max_width)\n",
        "print(result)"
      ],
      "metadata": {
        "colab": {
          "base_uri": "https://localhost:8080/"
        },
        "id": "O-VnSKVdvEB-",
        "outputId": "3ca96c4a-e8da-4694-a757-10e57ad03406"
      },
      "execution_count": 10,
      "outputs": [
        {
          "output_type": "stream",
          "name": "stdout",
          "text": [
            "Enter the string: abucdfehklfyioiwfdklnnctukcb\n",
            "Enter string width: 4\n",
            "abuc\n",
            "dfeh\n",
            "klfy\n",
            "ioiw\n",
            "fdkl\n",
            "nnct\n",
            "ukcb\n"
          ]
        }
      ]
    },
    {
      "cell_type": "markdown",
      "source": [
        "**DESIGNER DOORMAT**\n",
        "\n",
        "Mr. Vincent works in a door mat manufacturing company. One day, he designed a new door mat with the following specifications:\n",
        "\n",
        "Mat size must be N*M. (N is an odd natural number, and M is 3 times N.)\n",
        "The design should have 'WELCOME' written in the center.\n",
        "The design pattern should only use |, . and - characters."
      ],
      "metadata": {
        "id": "CO3n0arRvgu_"
      }
    },
    {
      "cell_type": "code",
      "source": [
        "M,N = map(int, input().split())\n",
        "for i in range(M):\n",
        "    if i < (M/2)-1: print(('.|.'*(2*i+1)).center(N, '-'))\n",
        "    elif i > (M/2): print(('.|.'*(2*(M-i)-1)).center(N, '-'))\n",
        "    else: print(('WELCOME').center(N, '-'))"
      ],
      "metadata": {
        "colab": {
          "base_uri": "https://localhost:8080/"
        },
        "id": "vnWVDAfyvxiq",
        "outputId": "a910d359-df5b-4e60-cdf6-df3938ff8504"
      },
      "execution_count": 12,
      "outputs": [
        {
          "output_type": "stream",
          "name": "stdout",
          "text": [
            "5 15\n",
            "------.|.------\n",
            "---.|..|..|.---\n",
            "----WELCOME----\n",
            "---.|..|..|.---\n",
            "------.|.------\n"
          ]
        }
      ]
    },
    {
      "cell_type": "markdown",
      "source": [
        "**ALPHABET RANGOLI**\n",
        "\n",
        "You are given an integer, N. Your task is to print an alphabet rangoli of size N. (Rangoli is a form of Indian folk art based on creation of patterns.)"
      ],
      "metadata": {
        "id": "FVuWLlHQwMJV"
      }
    },
    {
      "cell_type": "code",
      "source": [
        "import itertools\n",
        "import string\n",
        "\n",
        "def print_rangoli(size):\n",
        "    a = string.ascii_lowercase\n",
        "\n",
        "    i = size -1\n",
        "    while i > -size:\n",
        "        p = ['-' for _ in range(abs(i))]\n",
        "        print(\"-\".join(itertools.chain(p, a[size-1 : abs(i): -1], a[abs(i): size], p)))\n",
        "        i -= 1\n",
        "\n",
        "n = int(input())\n",
        "print_rangoli(n)"
      ],
      "metadata": {
        "colab": {
          "base_uri": "https://localhost:8080/"
        },
        "id": "sLgpBKYYwcu2",
        "outputId": "5adf5d58-74cd-4243-975a-c4a30949a505"
      },
      "execution_count": 13,
      "outputs": [
        {
          "output_type": "stream",
          "name": "stdout",
          "text": [
            "5\n",
            "--------e--------\n",
            "------e-d-e------\n",
            "----e-d-c-d-e----\n",
            "--e-d-c-b-c-d-e--\n",
            "e-d-c-b-a-b-c-d-e\n",
            "--e-d-c-b-c-d-e--\n",
            "----e-d-c-d-e----\n",
            "------e-d-e------\n",
            "--------e--------\n"
          ]
        }
      ]
    },
    {
      "cell_type": "markdown",
      "source": [
        "**THE MINION GAME**\n",
        "\n",
        "Kevin and Stuart want to play the 'The Minion Game'.\n",
        "\n",
        "Game Rules\n",
        "\n",
        "Both players are given the same string, S.\n",
        "Both players have to make substrings using the letters of the string .\n",
        "Stuart has to make words starting with consonants.\n",
        "Kevin has to make words starting with vowels.\n",
        "The game ends when both players have made all possible substrings.\n",
        "\n",
        "Scoring\n",
        "A player gets +1 point for each occurrence of the substring in the string S .\n",
        "\n",
        "For Example:\n",
        "String  S= BANANA\n",
        "Kevin's vowel beginning word = ANA\n",
        "Here, ANA occurs twice in BANANA. Hence, Kevin will get 2 Points."
      ],
      "metadata": {
        "id": "Ec76VzvkwrS2"
      }
    },
    {
      "cell_type": "code",
      "source": [
        "def minion_game(string):\n",
        "\n",
        "    vowel = ['A','E','I','O','U']\n",
        "    Stuart_score = 0\n",
        "    Kevin_score = 0\n",
        "    for i in range(len(string)):\n",
        "        if string[i] in vowel:\n",
        "            score = len(string)- i\n",
        "            Kevin_score = Kevin_score + score\n",
        "\n",
        "        else:\n",
        "            score = len(string)-i\n",
        "            Stuart_score = Stuart_score + score\n",
        "\n",
        "    if Stuart_score>Kevin_score:\n",
        "        print(\"Stuart\",Stuart_score)\n",
        "    elif Kevin_score>Stuart_score:\n",
        "        print(\"Kevin\",Kevin_score)\n",
        "    else:\n",
        "        print(\"Draw\")\n",
        "\n",
        "s = input()\n",
        "minion_game(s)"
      ],
      "metadata": {
        "colab": {
          "base_uri": "https://localhost:8080/"
        },
        "id": "k23QhkXAw3GU",
        "outputId": "17b6af11-123c-4c56-d27b-c3a904e4eb14"
      },
      "execution_count": 14,
      "outputs": [
        {
          "output_type": "stream",
          "name": "stdout",
          "text": [
            "BANANA\n",
            "Stuart 12\n"
          ]
        }
      ]
    }
  ]
}