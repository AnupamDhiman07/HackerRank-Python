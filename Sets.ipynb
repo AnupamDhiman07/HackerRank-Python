{
  "nbformat": 4,
  "nbformat_minor": 0,
  "metadata": {
    "colab": {
      "provenance": []
    },
    "kernelspec": {
      "name": "python3",
      "display_name": "Python 3"
    },
    "language_info": {
      "name": "python"
    }
  },
  "cells": [
    {
      "cell_type": "markdown",
      "source": [
        "**SETS**"
      ],
      "metadata": {
        "id": "MYdKyoqt2lqF"
      }
    },
    {
      "cell_type": "markdown",
      "source": [
        "**INTRODUCTION TO SETS**\n",
        "\n",
        "A set is an unordered collection of elements without duplicate entries.\n",
        "When printed, iterated or converted into a sequence, its elements will appear in an arbitrary order.\n",
        "\n",
        "Basically, sets are used for membership testing and eliminating duplicate entries.\n",
        "\n",
        "**Task**\n",
        "\n",
        "Now, let's use our knowledge of sets and help Mickey.\n",
        "\n",
        "Ms. Gabriel Williams is a botany professor at District College. One day, she asked her student Mickey to compute the average of all the plants with distinct heights in her greenhouse."
      ],
      "metadata": {
        "id": "2oZ3icMx5alC"
      }
    },
    {
      "cell_type": "code",
      "source": [
        "def average(array):\n",
        " return round(sum(set(array))/len(set(array)),3)\n",
        "\n",
        "n = int(input())\n",
        "arr = list(map(int, input().split()))\n",
        "result = average(arr)\n",
        "print(result)"
      ],
      "metadata": {
        "colab": {
          "base_uri": "https://localhost:8080/"
        },
        "id": "5qW4rCP25hMk",
        "outputId": "606a6d81-a022-47e2-b52c-9772027507be"
      },
      "execution_count": null,
      "outputs": [
        {
          "output_type": "stream",
          "name": "stdout",
          "text": [
            "10\n",
            "154 161 170 171 174 176 182\n",
            "169.714\n"
          ]
        }
      ]
    },
    {
      "cell_type": "markdown",
      "source": [
        "**symmetric difference**\n",
        "\n",
        "**Task**\n",
        "\n",
        "Given  sets of integers,  and , print their symmetric difference in ascending order. The term symmetric difference indicates those values that exist in either  or  but do not exist in both."
      ],
      "metadata": {
        "id": "-dO06r60_0G2"
      }
    },
    {
      "cell_type": "code",
      "source": [
        "m = int(input())\n",
        "m1 = set(map(int, input().split()))\n",
        "n = int(input())\n",
        "n1 = set(map(int, input().split()))\n",
        "z = sorted(m1.symmetric_difference(n1))\n",
        "\n",
        "for element in z:\n",
        "    print(element)"
      ],
      "metadata": {
        "colab": {
          "base_uri": "https://localhost:8080/"
        },
        "id": "gD6DuKfi_9bf",
        "outputId": "c5ebe3b6-807a-4ffd-c852-ed8e4dc7ad2c"
      },
      "execution_count": null,
      "outputs": [
        {
          "output_type": "stream",
          "name": "stdout",
          "text": [
            "4\n",
            "2 4 5 9\n",
            "4\n",
            "2 4 11 12\n",
            "5\n",
            "9\n",
            "11\n",
            "12\n"
          ]
        }
      ]
    },
    {
      "cell_type": "markdown",
      "source": [
        "**set.add()**\n",
        "\n",
        "If we want to add a single element to an existing set, we can use the .add() operation.\n",
        "\n",
        "It adds the element to the set and returns 'None'.\n",
        "\n",
        "**Task**\n",
        "\n",
        "Apply your knowledge of the .add() operation to help your friend Rupal.\n",
        "\n",
        "Rupal has a huge collection of country stamps. She decided to count the total number of distinct country stamps in her collection. She asked for your help. You pick the stamps one by one from a stack of N country stamps.\n",
        "\n",
        "Find the total number of distinct country stamps.\n"
      ],
      "metadata": {
        "id": "Ko3PBL7n6LAb"
      }
    },
    {
      "cell_type": "code",
      "source": [
        "n=int(input(\"Enter the total number of country stamps: \"))\n",
        "s= set()\n",
        "i=0\n",
        "for i in range(n):\n",
        "    s.add(input(\"Enter the name of the country: N\"))\n",
        "    i+1\n",
        "print (len(s))"
      ],
      "metadata": {
        "colab": {
          "base_uri": "https://localhost:8080/"
        },
        "id": "cLkBbSrO6XWR",
        "outputId": "28b59907-a890-45b2-f986-b6c6ec84da37"
      },
      "execution_count": null,
      "outputs": [
        {
          "output_type": "stream",
          "name": "stdout",
          "text": [
            "Enter the total number of country stamps: 7\n",
            "Enter the name of the country: UK\n",
            "Enter the name of the country: CHINA\n",
            "Enter the name of the country: USA\n",
            "Enter the name of the country: FRANCE\n",
            "Enter the name of the country: EW ZEALAND\n",
            "Enter the name of the country: UK\n",
            "Enter the name of the country: FRANCE\n",
            "5\n"
          ]
        }
      ]
    },
    {
      "cell_type": "markdown",
      "source": [
        "**set.discard(), set.remove(), .pop()**\n",
        "\n",
        "This operation removes element  from the set.\n",
        "If element  does not exist, it raises a KeyError.\n",
        "The .remove(x) operation returns None.\n",
        "\n",
        ".discard(x)\n",
        "This operation also removes element  from the set.\n",
        "If element  does not exist, it does not raise a KeyError.\n",
        "The .discard(x) operation returns None.\n",
        "\n",
        ".pop()\n",
        "This operation removes and return an arbitrary element from the set.\n",
        "If there are no elements to remove, it raises a KeyError.\n",
        "\n",
        "**Task**\n",
        "You have a non-empty set , and you have to execute  commands given in  lines.\n",
        "\n",
        "The commands will be pop, remove and discard."
      ],
      "metadata": {
        "id": "auQ3eXP_68i0"
      }
    },
    {
      "cell_type": "code",
      "source": [
        "n = int(input(\"Enter the number of elements in the set: \"))\n",
        "s = set(map(int, input(f\"Enter {n} elemnts: \").split()))\n",
        "N = int(input(\"enter the number of commands: \"))\n",
        "for _ in range(N):\n",
        "    command=input(\"enter 'pop', 'remove' or 'discard': \").split()\n",
        "\n",
        "    if command[0]==\"pop\":\n",
        "        s.pop()\n",
        "    elif command[0]==\"remove\":\n",
        "        s.remove(int(command[1]))\n",
        "    elif command[0]==\"discard\":\n",
        "        s.discard(int(command[1]))\n",
        "\n",
        "print(sum(s))"
      ],
      "metadata": {
        "colab": {
          "base_uri": "https://localhost:8080/"
        },
        "id": "zBBNZy4N7VvE",
        "outputId": "4e5496de-c3a0-4bdd-9d0b-47cd014a07dd"
      },
      "execution_count": null,
      "outputs": [
        {
          "output_type": "stream",
          "name": "stdout",
          "text": [
            "Enter the number of elements in the set: 9\n",
            "Enter 9 elemnts: 1 2 3 4 5 6  7 8 9\n",
            "enter the number of commands: 10\n",
            "enter 'pop', 'remove' or 'discard': pop\n",
            "enter 'pop', 'remove' or 'discard': remove 9\n",
            "enter 'pop', 'remove' or 'discard': discard 9\n",
            "enter 'pop', 'remove' or 'discard': discard 8\n",
            "enter 'pop', 'remove' or 'discard': remove 7\n",
            "enter 'pop', 'remove' or 'discard': pop\n",
            "enter 'pop', 'remove' or 'discard': discard 6\n",
            "enter 'pop', 'remove' or 'discard': remove 5\n",
            "enter 'pop', 'remove' or 'discard': pop\n",
            "enter 'pop', 'remove' or 'discard': discard 5\n",
            "4\n"
          ]
        }
      ]
    },
    {
      "cell_type": "markdown",
      "source": [
        "**set.union()**\n",
        "\n",
        "**Task**\n",
        "\n",
        "The students of District College have subscriptions to English and French newspapers. Some students have subscribed only to English, some have subscribed to only French and some have subscribed to both newspapers.\n",
        "\n",
        "You are given two sets of student roll numbers. One set has subscribed to the English newspaper, and the other set is subscribed to the French newspaper. The same student could be in both sets. Your task is to find the total number of students who have subscribed to at least one newspaper."
      ],
      "metadata": {
        "id": "B4Cdbt3n8O0o"
      }
    },
    {
      "cell_type": "code",
      "source": [
        "n = int(input())\n",
        "N = set(map(int,input().split()))\n",
        "m = int(input())\n",
        "M = set(map(int,input().split()))\n",
        "print(len(N.union(M)))"
      ],
      "metadata": {
        "colab": {
          "base_uri": "https://localhost:8080/"
        },
        "id": "x-1ztdYV8bLA",
        "outputId": "bd2ef98f-e904-49f3-9b72-875edeb7a997"
      },
      "execution_count": null,
      "outputs": [
        {
          "output_type": "stream",
          "name": "stdout",
          "text": [
            "9\n",
            "1 2 3  4 5 6 7 8 9\n",
            "9\n",
            "10 1 2 3 11 21 55 6 8\n",
            "13\n"
          ]
        }
      ]
    },
    {
      "cell_type": "markdown",
      "source": [
        "**set.intersection() operation**\n",
        "\n",
        "The .intersection() operator returns the intersection of a set and the set of elements in an iterable.\n",
        "\n",
        "**Task**\n",
        "\n",
        "The students of District College have subscriptions to English and French newspapers. Some students have subscribed only to English, some have subscribed only to French, and some have subscribed to both newspapers.\n",
        "\n",
        "You are given two sets of student roll numbers. One set has subscribed to the English newspaper, one set has subscribed to the French newspaper. Your task is to find the total number of students who have subscribed to both newspapers."
      ],
      "metadata": {
        "id": "-k8BXjXZ9OIW"
      }
    },
    {
      "cell_type": "code",
      "source": [
        "n = int(input())\n",
        "N = set(map(int,input().split()))\n",
        "m = int(input())\n",
        "M = set(map(int,input().split()))\n",
        "print(len(N.intersection(M)))"
      ],
      "metadata": {
        "id": "i39DGh4r9do6"
      },
      "execution_count": null,
      "outputs": []
    },
    {
      "cell_type": "markdown",
      "source": [
        "**set.difference() operation**\n",
        "\n",
        "The tool .difference() returns a set with all the elements from the set that are not in an iterable.\n",
        "\n",
        "**Task**\n",
        "\n",
        "Students of District College have a subscription to English and French newspapers. Some students have subscribed to only the English newspaper, some have subscribed to only the French newspaper, and some have subscribed to both newspapers.\n",
        "\n",
        "You are given two sets of student roll numbers. One set has subscribed to the English newspaper, and one set has subscribed to the French newspaper. Your task is to find the total number of students who have subscribed to only English newspapers."
      ],
      "metadata": {
        "id": "ElEps7zF9ye_"
      }
    },
    {
      "cell_type": "code",
      "source": [
        "n = int(input())\n",
        "N = set(map(int,input().split()))\n",
        "m = int(input())\n",
        "M = set(map(int,input().split()))\n",
        "print(len(N.difference(M)))"
      ],
      "metadata": {
        "colab": {
          "base_uri": "https://localhost:8080/"
        },
        "id": "1OXwzdpF-K95",
        "outputId": "4352f30a-b728-494a-d7e3-a8708f2e7653"
      },
      "execution_count": null,
      "outputs": [
        {
          "output_type": "stream",
          "name": "stdout",
          "text": [
            "9\n",
            "1 2 3 4 5 6 7 8 9\n",
            "9\n",
            "10 1 2 3 11 21 55 6 8\n",
            "4\n"
          ]
        }
      ]
    },
    {
      "cell_type": "markdown",
      "source": [
        "**SYMMETRIC DIFFERENCE**\n",
        "\n",
        "The .symmetric_difference() operator returns a set with all the elements that are in the set and the iterable but not both.\n",
        "\n",
        "Task\n",
        "Students of District College have subscriptions to English and French newspapers. Some students have subscribed to English only, some have subscribed to French only, and some have subscribed to both newspapers.\n",
        "\n",
        "You are given two sets of student roll numbers. One set has subscribed to the English newspaper, and one set has subscribed to the French newspaper. Your task is to find the total number of students who have subscribed to either the English or the French newspaper but not both."
      ],
      "metadata": {
        "id": "w2ZZyAvB4mUV"
      }
    },
    {
      "cell_type": "code",
      "source": [
        "m = int(input())\n",
        "m1 = set(map(int,input().split()))\n",
        "n = int(input())\n",
        "n1 = set(map(int,input().split()))\n",
        "print(len(m1.symmetric_difference(n1)))"
      ],
      "metadata": {
        "colab": {
          "base_uri": "https://localhost:8080/"
        },
        "id": "M81dddib4rfh",
        "outputId": "69c067f9-c3ad-460a-e6e1-580781edffde"
      },
      "execution_count": null,
      "outputs": [
        {
          "output_type": "stream",
          "name": "stdout",
          "text": [
            "9\n",
            "1 2 3 4 5  67 8 9\n",
            "9\n",
            "10 1 2 3 4 11 21 55 6 8\n",
            "8\n"
          ]
        }
      ]
    },
    {
      "cell_type": "markdown",
      "source": [
        "**CHECK SUBSET**\n",
        "\n",
        "You are given two sets, A and B.\n",
        "Your job is to find whether set A is a subset of set B ."
      ],
      "metadata": {
        "id": "uawmZmUiCu14"
      }
    },
    {
      "cell_type": "code",
      "source": [
        "# Function to check if Set A is a subset of Set B\n",
        "def is_subset(set_A, set_B):\n",
        "    return set_A.issubset(set_B)\n",
        "\n",
        "# Get the number of test cases\n",
        "num_test_cases = int(input(\"Enter the number of test cases: \"))\n",
        "\n",
        "# Process each test case\n",
        "for _ in range(num_test_cases):\n",
        "    # Get the number of elements in Set A\n",
        "    n_A = int(input(\"Enter the number of elements in Set A: \"))\n",
        "\n",
        "    # Get the elements of Set A\n",
        "    set_A = set(input(\"Enter the elements of Set A, separated by spaces: \").split())\n",
        "\n",
        "    # Get the number of elements in Set B\n",
        "    n_B = int(input(\"Enter the number of elements in Set B: \"))\n",
        "\n",
        "    # Get the elements of Set B\n",
        "    set_B = set(input(\"Enter the elements of Set B, separated by spaces: \").split())\n",
        "\n",
        "    # Check if Set A is a subset of Set B and print the result\n",
        "    print(is_subset(set_A, set_B))"
      ],
      "metadata": {
        "colab": {
          "base_uri": "https://localhost:8080/"
        },
        "id": "JqVXq4Y6CtW0",
        "outputId": "fae5a177-2ed3-4a70-bf1a-28b830d2edd4"
      },
      "execution_count": null,
      "outputs": [
        {
          "output_type": "stream",
          "name": "stdout",
          "text": [
            "Enter the number of test cases: 3\n",
            "Enter the number of elements in Set A: 5\n",
            "Enter the elements of Set A, separated by spaces: 1 2 3 5 6 \n",
            "Enter the number of elements in Set B: 9\n",
            "Enter the elements of Set B, separated by spaces: 9 8 5 6 3 2 1 4 7\n",
            "True\n",
            "Enter the number of elements in Set A: 1\n",
            "Enter the elements of Set A, separated by spaces: 2\n",
            "Enter the number of elements in Set B: 5\n",
            "Enter the elements of Set B, separated by spaces: 36541\n",
            "False\n",
            "Enter the number of elements in Set A: 3\n",
            "Enter the elements of Set A, separated by spaces: 9 8 2\n",
            "Enter the number of elements in Set B: 7\n",
            "Enter the elements of Set B, separated by spaces: 1 2 3 5 6 8  9\n",
            "True\n"
          ]
        }
      ]
    },
    {
      "cell_type": "markdown",
      "source": [
        "**CHECK STRICT SUPERSET**\n",
        "\n",
        "You are given a set A and  other n sets.\n",
        "Your job is to find whether set A is a strict superset of each of the n sets.\n",
        "\n",
        "Print True, if A is a strict superset of each of the n sets. Otherwise, print False.\n",
        "\n",
        "A strict superset has at least one element that does not exist in its subset."
      ],
      "metadata": {
        "id": "ERU56XXsEf15"
      }
    },
    {
      "cell_type": "code",
      "source": [
        "a = set(map(int, input().split()))\n",
        "n = int(input())\n",
        "sets = []  # Create a list to store the sets\n",
        "\n",
        "for _ in range(n):\n",
        "    b = set(map(int, input().split()))\n",
        "    sets.append(b)  # Add each set to the list\n",
        "\n",
        "for b in sets:\n",
        "    if not a.issuperset(b):\n",
        "        print(False)\n",
        "        break\n",
        "else:\n",
        "    print(True)"
      ],
      "metadata": {
        "colab": {
          "base_uri": "https://localhost:8080/"
        },
        "id": "GqbeiWTuFi2P",
        "outputId": "60418765-c54d-4b57-e81a-8651ead36298"
      },
      "execution_count": null,
      "outputs": [
        {
          "output_type": "stream",
          "name": "stdout",
          "text": [
            "1 2 3 4 5 6 7 8 9 10 11 12 23 45 84 78\n",
            "2\n",
            "1 2 3 4 5\n",
            "100 11 12\n",
            "False\n"
          ]
        }
      ]
    },
    {
      "cell_type": "markdown",
      "source": [
        "**SET MUTATIONS**\n",
        "\n",
        "You are given a set A and N number of other sets. These N number of sets have to perform some specific mutation operations on set A.\n",
        "\n",
        "Your task is to execute those operations and print the sum of elements from set A .\n",
        "\n",
        "**Input Format**\n",
        "\n",
        "The first line contains the number of elements in set A.\n",
        "\n",
        "The second line contains the space separated list of elements in set A.\n",
        "\n",
        "The third line contains integer N, the number of other sets.\n",
        "\n",
        "The next  lines are divided into 2*N parts containing two lines each.\n",
        "\n",
        "The first line of each part contains the space separated entries of the operation name and the length of the other set.\n",
        "\n",
        "The second line of each part contains space separated list of elements in the other set."
      ],
      "metadata": {
        "id": "VwAR_JR7G4RN"
      }
    },
    {
      "cell_type": "code",
      "source": [
        "n = int(input())\n",
        "s = set(map(int, input().split()))\n",
        "num_operations = int(input())\n",
        "\n",
        "for _ in range(num_operations):\n",
        "    operation, length = input().split()\n",
        "    other_set = set(map(int, input().split()))\n",
        "\n",
        "    if operation == \"intersection_update\":\n",
        "        s.intersection_update(other_set)\n",
        "    elif operation == \"update\":\n",
        "        s.update(other_set)\n",
        "    elif operation == \"symmetric_difference_update\":\n",
        "        s.symmetric_difference_update(other_set)\n",
        "    elif operation == \"difference_update\":\n",
        "        s.difference_update(other_set)\n",
        "\n",
        "print(sum(s))"
      ],
      "metadata": {
        "colab": {
          "base_uri": "https://localhost:8080/"
        },
        "id": "Qxghm-GCHVNH",
        "outputId": "ce51d5d9-80a2-4986-ef91-4fc02a3ceb92"
      },
      "execution_count": null,
      "outputs": [
        {
          "output_type": "stream",
          "name": "stdout",
          "text": [
            "16\n",
            "1 2 3 4 5 6 7 8 9 10 11 12 13 14 24 52\n",
            "4\n",
            "intersection_update 10\n",
            "2 3 5 6 8 9 1 4 7 11\n",
            " update 2\n",
            "55 66\n",
            "symmetric_difference_update 5\n",
            "22 7 35 62 58\n",
            "difference_update 7\n",
            "11 22 35 55 58 62 66\n",
            "38\n"
          ]
        }
      ]
    },
    {
      "cell_type": "markdown",
      "source": [
        "**THE CAPTAIN'S ROOM**\n",
        "\n",
        "Mr. Anant Asankhya is the manager at the INFINITE hotel. The hotel has an infinite amount of rooms.\n",
        "\n",
        "One fine day, a finite number of tourists come to stay at the hotel.\n",
        "The tourists consist of:\n",
        "→ A Captain.\n",
        "→ An unknown group of families consisting of K members per group where  K≠ 1.\n",
        "\n",
        "The Captain was given a separate room, and the rest were given one room per group.\n",
        "\n",
        "Mr. Anant has an unordered list of randomly arranged room entries. The list consists of the room numbers for all of the tourists. The room numbers will appear K times per group except for the Captain's room.\n",
        "\n",
        "Mr. Anant needs you to help him find the Captain's room number.\n",
        "The total number of tourists or the total number of groups of families is not known to you.\n",
        "You only know the value of K and the room number list.\n",
        "\n"
      ],
      "metadata": {
        "id": "jCQ7d_dCI5OF"
      }
    },
    {
      "cell_type": "code",
      "source": [
        "from collections import Counter\n",
        "def find_captains_room(group_size, room_numbers):\n",
        "    room_counts = Counter(room_numbers)\n",
        "    for room, count in room_counts.items():\n",
        "        if count == 1:\n",
        "            return room\n",
        "\n",
        "# Read input values\n",
        "group_size = int(input())\n",
        "room_numbers = list(map(int, input().split()))\n",
        "\n",
        "# Find the Captain's room number\n",
        "captains_room = find_captains_room(group_size, room_numbers)\n",
        "\n",
        "# Print the Captain's room number\n",
        "print(captains_room)"
      ],
      "metadata": {
        "colab": {
          "base_uri": "https://localhost:8080/"
        },
        "id": "IfTMoR2ZJMP-",
        "outputId": "203df805-7770-4020-8a68-94d3b1f17ead"
      },
      "execution_count": null,
      "outputs": [
        {
          "output_type": "stream",
          "name": "stdout",
          "text": [
            "5\n",
            "1 2 3 6 5 4 4 2 5 3 6 1 6 5 3 2 4 1 2 5 1 4 3 6 8 4 3 1 5 6 2\n",
            "8\n"
          ]
        }
      ]
    },
    {
      "cell_type": "markdown",
      "source": [
        "**NO IDEA!**\n",
        "\n",
        "There is an array of n integers. There are also 2 disjoint sets, A and B, each containing m integers. You like all the integers in set  Aand dislike all the integers in set B. Your initial happiness is 0. For each i integer in the array, if i belongs to A, you add 1 to your happiness. If i belongs to B, you add -1 to your happiness. Otherwise, your happiness does not change. Output your final happiness at the end."
      ],
      "metadata": {
        "id": "jOttym02UyJn"
      }
    },
    {
      "cell_type": "code",
      "source": [
        "n, m = map(int, input().split())\n",
        "array = list(map(int, input().split()))\n",
        "setA = set(map(int, input().split()))\n",
        "setB = set(map(int, input().split()))\n",
        "\n",
        "totalHappiness = 0\n",
        "\n",
        "for x in array:\n",
        "    if x in setA:\n",
        "        totalHappiness += 1\n",
        "    elif x in setB:\n",
        "        totalHappiness -= 1\n",
        "\n",
        "print(totalHappiness)"
      ],
      "metadata": {
        "colab": {
          "base_uri": "https://localhost:8080/"
        },
        "id": "YKRVJI0kVXdg",
        "outputId": "55b9b2b3-8283-416b-b254-ded18f7e9f70"
      },
      "execution_count": null,
      "outputs": [
        {
          "output_type": "stream",
          "name": "stdout",
          "text": [
            "3 2\n",
            "1 5 3\n",
            "3 1\n",
            "5 7\n",
            "1\n"
          ]
        }
      ]
    }
  ]
}