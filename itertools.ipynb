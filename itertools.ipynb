{
  "nbformat": 4,
  "nbformat_minor": 0,
  "metadata": {
    "colab": {
      "provenance": []
    },
    "kernelspec": {
      "name": "python3",
      "display_name": "Python 3"
    },
    "language_info": {
      "name": "python"
    }
  },
  "cells": [
    {
      "cell_type": "markdown",
      "source": [
        "**itertools.product()**\n",
        "\n",
        "You are given a two lists A and B. Your task is to compute their cartesian product AXB."
      ],
      "metadata": {
        "id": "0dZuW5KXncX5"
      }
    },
    {
      "cell_type": "code",
      "execution_count": 1,
      "metadata": {
        "colab": {
          "base_uri": "https://localhost:8080/"
        },
        "id": "5tKaTfbqnTLV",
        "outputId": "dc6a8d50-3c60-4e0c-a2fd-60a54af27355"
      },
      "outputs": [
        {
          "output_type": "stream",
          "name": "stdout",
          "text": [
            "2 1\n",
            "3 4\n",
            "(1, 3) (1, 4) (2, 3) (2, 4)\n"
          ]
        }
      ],
      "source": [
        "from itertools import product\n",
        "\n",
        "a = sorted(list(map(int, input().split())))\n",
        "\n",
        "b = sorted(list(map(int, input().split())))\n",
        "cp = sorted(set(product(a,b)))\n",
        "print(*cp)\n",
        "# * will print the elements separated by a space instead of square brackets"
      ]
    },
    {
      "cell_type": "markdown",
      "source": [
        "**itertools.permuatations()**\n",
        "\n",
        "You are given a string S.\n",
        "Your task is to print all possible permutations of size k of the string S in lexicographic sorted order."
      ],
      "metadata": {
        "id": "J95iEvCiqZ5N"
      }
    },
    {
      "cell_type": "code",
      "source": [
        "from itertools import permutations\n",
        "S, k = input().split()\n",
        "k = int(k)\n",
        "for elem in sorted(list(permutations(S, k))):\n",
        "    print(''.join(elem))\n"
      ],
      "metadata": {
        "colab": {
          "base_uri": "https://localhost:8080/"
        },
        "id": "YX42XE5kqkOA",
        "outputId": "108717be-0df1-4d88-e58e-18026dbc5638"
      },
      "execution_count": 2,
      "outputs": [
        {
          "output_type": "stream",
          "name": "stdout",
          "text": [
            "hack 2\n",
            "ac\n",
            "ah\n",
            "ak\n",
            "ca\n",
            "ch\n",
            "ck\n",
            "ha\n",
            "hc\n",
            "hk\n",
            "ka\n",
            "kc\n",
            "kh\n"
          ]
        }
      ]
    },
    {
      "cell_type": "markdown",
      "source": [
        "**itertools.combinations()**\n",
        "\n",
        "You are given a string .\n",
        "Your task is to print all possible combinations, up to size , of the string in lexicographic sorted order."
      ],
      "metadata": {
        "id": "yRyO_uuusBd4"
      }
    },
    {
      "cell_type": "code",
      "source": [
        "from itertools import combinations\n",
        "S, k = input().split()\n",
        "k = int(k)\n",
        "for i in range(1,k+1):\n",
        "    d=list(combinations(sorted(S),i))\n",
        "    for i in d:\n",
        "        print(''.join(i))"
      ],
      "metadata": {
        "colab": {
          "base_uri": "https://localhost:8080/"
        },
        "id": "FizRl5E4sGmo",
        "outputId": "1d1d5481-972a-4e8b-b0d4-034da5b1f4cf"
      },
      "execution_count": 3,
      "outputs": [
        {
          "output_type": "stream",
          "name": "stdout",
          "text": [
            "hack 2\n",
            "a\n",
            "c\n",
            "h\n",
            "k\n",
            "ac\n",
            "ah\n",
            "ak\n",
            "ch\n",
            "ck\n",
            "hk\n"
          ]
        }
      ]
    },
    {
      "cell_type": "markdown",
      "source": [
        "**combinations_with_replacement()**\n",
        "\n",
        "You are given a string .\n",
        "Your task is to print all possible size  replacement combinations of the string in lexicographic sorted order."
      ],
      "metadata": {
        "id": "uMJII9KjtcRO"
      }
    },
    {
      "cell_type": "code",
      "source": [
        "from itertools import combinations_with_replacement\n",
        "S, k = input().split()\n",
        "k = int(k)\n",
        "S = sorted(list(S))\n",
        "for combination in combinations_with_replacement(S, k):\n",
        "    print(\"\".join(combination))"
      ],
      "metadata": {
        "colab": {
          "base_uri": "https://localhost:8080/"
        },
        "id": "vJA0If_1tiWT",
        "outputId": "d2f1ba28-8247-464d-e54b-4c796b607264"
      },
      "execution_count": 4,
      "outputs": [
        {
          "output_type": "stream",
          "name": "stdout",
          "text": [
            "hack 2\n",
            "aa\n",
            "ac\n",
            "ah\n",
            "ak\n",
            "cc\n",
            "ch\n",
            "ck\n",
            "hh\n",
            "hk\n",
            "kk\n"
          ]
        }
      ]
    },
    {
      "cell_type": "markdown",
      "source": [
        "**groupby()**\n",
        "\n",
        "You are given a string s. Suppose a character 'c' occurs consecutively x times in the string. Replace these consecutive occurrences of the character 'c' with (x,c) in the string."
      ],
      "metadata": {
        "id": "_xMzkZvVu8NP"
      }
    },
    {
      "cell_type": "code",
      "source": [
        "from itertools import groupby\n",
        "s = input()\n",
        "print(*((len(list(g)),int(k) ) for k, g in groupby(s)))"
      ],
      "metadata": {
        "colab": {
          "base_uri": "https://localhost:8080/"
        },
        "id": "Fqq4fZB9vLMs",
        "outputId": "dd45d671-4443-494c-8bf0-a1a585f5c185"
      },
      "execution_count": 6,
      "outputs": [
        {
          "output_type": "stream",
          "name": "stdout",
          "text": [
            "12223311\n",
            "(1, 1) (3, 2) (2, 3) (2, 1)\n"
          ]
        }
      ]
    },
    {
      "cell_type": "markdown",
      "source": [
        "**iterables and iterators**\n",
        "\n",
        "You are given a list of n lowercase English letters. For a given integer n, you can select any n indices (assume 1-based indexing) with a uniform probability from the list.\n",
        "\n",
        "Find the probability that at least one of the k indices selected will contain the letter: 'a'."
      ],
      "metadata": {
        "id": "CxiOsAnjwBhI"
      }
    },
    {
      "cell_type": "code",
      "source": [
        "from itertools import combinations\n",
        "n = int(input())\n",
        "letters = input().split()\n",
        "k = int(input())\n",
        "combs = list(combinations(letters, k))\n",
        "a_count = sum('a' in comb for comb in combs)\n",
        "probability = a_count / len(combs)\n",
        "print(round(probability, 3))"
      ],
      "metadata": {
        "colab": {
          "base_uri": "https://localhost:8080/"
        },
        "id": "G00T1H_BwPwv",
        "outputId": "534d212d-02e5-4b3f-d1b5-7b8e962bcafb"
      },
      "execution_count": 7,
      "outputs": [
        {
          "output_type": "stream",
          "name": "stdout",
          "text": [
            "4\n",
            "a a c d\n",
            "2\n",
            "0.833\n"
          ]
        }
      ]
    },
    {
      "cell_type": "markdown",
      "source": [
        "**MAXIMIZE IT**\n",
        "\n",
        "You are given a function f(X)= x^2. You are also given k lists. The ith list consists of n(i) elements.\n",
        "\n",
        "You have to pick one element from each list so that the value from the equation below is maximized:\n",
        "\n",
        "s = f(x1)+f(x2)+...f(xk)%m\n",
        "\n",
        "xi denotes the element picked from the ith list . Find the maximized value s(max) obtained.\n",
        "\n",
        "% denotes the modulo operator.\n",
        "\n",
        "Note that you need to take exactly one element from each list, not necessarily the largest element. You add the squares of the chosen elements and perform the modulo operation. The maximum value that you can obtain, will be the answer to the problem."
      ],
      "metadata": {
        "id": "i2P57eOLxLoZ"
      }
    },
    {
      "cell_type": "code",
      "source": [
        "from itertools import product\n",
        "\n",
        "# Read the count of the lines and M\n",
        "lines_count, m = map(int, input().split())\n",
        "\n",
        "# Store the lines in \"data\" array\n",
        "data = [list(map(int, input().split()))[1:] for _ in range(lines_count)]\n",
        "\n",
        "# Create all possible combinations using \"itertools.product\"\n",
        "combs = product(*data)\n",
        "\n",
        "# Calculate the results and store them in the \"results\" array\n",
        "results = [sum(i ** 2 for i in comb) % m for comb in combs]\n",
        "\n",
        "# Print the maximum result\n",
        "print(max(results))"
      ],
      "metadata": {
        "colab": {
          "base_uri": "https://localhost:8080/"
        },
        "id": "3Yk8f57kxK86",
        "outputId": "c36268db-3969-4342-d907-c150d10a63e4"
      },
      "execution_count": 9,
      "outputs": [
        {
          "output_type": "stream",
          "name": "stdout",
          "text": [
            "3 1000\n",
            "3 5 4\n",
            "3 7 8 9\n",
            "5 5 7 8 9 10\n",
            "206\n"
          ]
        }
      ]
    }
  ]
}