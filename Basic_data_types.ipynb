{
  "nbformat": 4,
  "nbformat_minor": 0,
  "metadata": {
    "colab": {
      "provenance": []
    },
    "kernelspec": {
      "name": "python3",
      "display_name": "Python 3"
    },
    "language_info": {
      "name": "python"
    }
  },
  "cells": [
    {
      "cell_type": "markdown",
      "source": [
        "**LISTS**\n",
        "\n",
        "**TASK**  Consider a list (list = []). You can perform the following commands:\n",
        "\n",
        "insert i e: Insert integer e at position i.\n",
        "\n",
        "print: Print the list.\n",
        "\n",
        "remove e: Delete the first occurrence of integer e .\n",
        "\n",
        "append e: Insert integer e at the end of the list.\n",
        "\n",
        "sort: Sort the list.\n",
        "\n",
        "pop: Pop the last element from the list.\n",
        "\n",
        "reverse: Reverse the list.\n",
        "\n",
        "Initialize your list and read in the value of n followed by n lines of commands where each command will be of the 7 types listed above. Iterate through each command in order and perform the corresponding operation on your list."
      ],
      "metadata": {
        "id": "flloAD3guhv6"
      }
    },
    {
      "cell_type": "code",
      "source": [
        "list = []\n",
        "n = int(input(\"Enter the number of commands and then enter the commands: \"))\n",
        "for _ in range(n):\n",
        "  command = input().split()\n",
        "  if command[0] ==\"insert\":\n",
        "    position = int(command[1])\n",
        "    element = int(command[2])\n",
        "    list.insert(position, element)\n",
        "  elif command[0] == \"print\":\n",
        "    print(list)\n",
        "  elif command[0] == \"remove\":\n",
        "    element = int(command[1])\n",
        "    list.remove(element)\n",
        "  elif command[0] == \"append\":\n",
        "    element = int(command[1])\n",
        "    list.append(element)\n",
        "  elif command[0] == \"sort\":\n",
        "    list.sort()\n",
        "  elif command[0] == \"pop\":\n",
        "    list.pop()\n",
        "  elif command[0] == \"reverse\":\n",
        "        list.reverse()\n"
      ],
      "metadata": {
        "colab": {
          "base_uri": "https://localhost:8080/"
        },
        "id": "-9BWTdvevQ6i",
        "outputId": "80b9f30b-2867-45ab-c125-273a1ebf4779"
      },
      "execution_count": null,
      "outputs": [
        {
          "name": "stdout",
          "output_type": "stream",
          "text": [
            "Enter the number of commands and then enter the commands: 7\n",
            "append 1\n",
            "append 3 \n",
            "append 7\n",
            "print\n",
            "[1, 3, 7]\n",
            "pop\n",
            "print\n",
            "[1, 3]\n",
            "sort\n"
          ]
        }
      ]
    },
    {
      "cell_type": "markdown",
      "source": [
        "**LIST COMPREHENSION**\n",
        "\n",
        "**TASK**\n",
        "\n",
        "You are given three integers x,y and z representing the dimensions of a cuboid along with an integer n. Print a list of all possible coordinates given by (i,j,k) on a 3D grid where the sum of i+j+k is not equal to n. Here, 0<=i<=x, 0<=j<=y, 0<=k<=z. Please use list comprehensions rather than multiple loops, as a learning exercise."
      ],
      "metadata": {
        "id": "cpP7o1xZzBuP"
      }
    },
    {
      "cell_type": "code",
      "source": [
        "x = int(input())\n",
        "y = int(input())\n",
        "z = int(input())\n",
        "n = int(input())\n",
        "list = []\n",
        "for i in range(x+1):\n",
        "  for j in range(y+1):\n",
        "    for k in range(z+1):\n",
        "      if i+j+k !=n:\n",
        "        s=[i,j,k]\n",
        "        list.append(s)\n",
        "print(list)\n"
      ],
      "metadata": {
        "colab": {
          "base_uri": "https://localhost:8080/"
        },
        "id": "JPhNsr6Rzrud",
        "outputId": "3def9ca0-ad89-425a-becb-65cca77310b5"
      },
      "execution_count": null,
      "outputs": [
        {
          "output_type": "stream",
          "name": "stdout",
          "text": [
            "1\n",
            "1\n",
            "2\n",
            "3\n",
            "[[0, 0, 0], [0, 0, 1], [0, 0, 2], [0, 1, 0], [0, 1, 1], [1, 0, 0], [1, 0, 1], [1, 1, 0], [1, 1, 2]]\n"
          ]
        }
      ]
    },
    {
      "cell_type": "markdown",
      "source": [
        "**FIND THE RUNNER-UP SCORE**\n",
        "\n",
        "**Task** Given the participants' score sheet for your University Sports Day, you are required to find the runner-up score. You are given n scores. Store them in a list and find the score of the runner-up."
      ],
      "metadata": {
        "id": "CKGkd3ae0s9w"
      }
    },
    {
      "cell_type": "code",
      "source": [
        "n = int(input(\"Enter the number of players and then their scores: \"))\n",
        "arr = map(int,input().split())\n",
        "sortedList = sorted(set(arr))\n",
        "runnerup = sortedList[-2]\n",
        "print(runnerup)\n"
      ],
      "metadata": {
        "colab": {
          "base_uri": "https://localhost:8080/"
        },
        "id": "AbfBRKER05Gd",
        "outputId": "463a47fd-8f53-4fbe-d1cd-f3984ea63215"
      },
      "execution_count": null,
      "outputs": [
        {
          "output_type": "stream",
          "name": "stdout",
          "text": [
            "Enter the number of players and then their scores: 5\n",
            "2 3 5 7 6\n",
            "6\n"
          ]
        }
      ]
    },
    {
      "cell_type": "markdown",
      "source": [
        "**TUPLE**\n",
        "\n",
        "**Task**\n",
        "\n",
        "Given an integer,n, and n space-separated integers as input, create a tuple,t , of those n integers. Then compute and print the result of hash(t)."
      ],
      "metadata": {
        "id": "cohYSN0xpO3K"
      }
    },
    {
      "cell_type": "code",
      "source": [
        "n = int(input(\"Enter the number of integers: \"))\n",
        "t = map(int,input().split())\n",
        "print(hash(tuple(t)))"
      ],
      "metadata": {
        "colab": {
          "base_uri": "https://localhost:8080/"
        },
        "id": "QtViFbimpmAt",
        "outputId": "ddd94530-481a-4f20-9db2-0df97dd22af3"
      },
      "execution_count": 1,
      "outputs": [
        {
          "output_type": "stream",
          "name": "stdout",
          "text": [
            "Enter the number of integers: 5\n",
            "2 5 8 1 3\n",
            "1837547141143463727\n"
          ]
        }
      ]
    },
    {
      "cell_type": "markdown",
      "source": [
        "**NESTED LIST**\n",
        "\n",
        "**TASK**\n",
        "\n",
        "Given the names and grades for each student in a class of N students, store them in a nested list and print the name(s) of any student(s) having the second lowest grade.\n",
        "\n",
        "Note: If there are multiple students with the second lowest grade, order their names alphabetically and print each name on a new line."
      ],
      "metadata": {
        "id": "bkIMhCC6qr47"
      }
    },
    {
      "cell_type": "code",
      "source": [
        "result =[]\n",
        "scorelist = []\n",
        "if __name__ == '__main__': #is a common Python idiom that checks if the script is being run directly (as opposed to being imported as a module).\n",
        "    for _ in range(int(input(\"Enter the number of students:\"))):\n",
        "        name = input(\"Enter the name: \")\n",
        "        score = float(input(\"Enter the score: \"))\n",
        "        result+=[[name,score]]\n",
        "        scorelist+=[score]\n",
        "    b=sorted(list(set(scorelist)))[1]\n",
        "    for a,c in sorted(result):\n",
        "        if c==b:\n",
        "            print(a)"
      ],
      "metadata": {
        "id": "LzvV2Kq8q7Sj"
      },
      "execution_count": null,
      "outputs": []
    },
    {
      "cell_type": "markdown",
      "source": [
        "**FINDING THE PERCENTAGE**\n",
        "\n",
        "**TASK**\n",
        "\n",
        "The provided code stub will read in a dictionary containing key/value pairs of name:[marks] for a list of students. Print the average of the marks array for the student name provided, showing 2 places after the decimal."
      ],
      "metadata": {
        "id": "5wRPPh_LtUNJ"
      }
    },
    {
      "cell_type": "code",
      "source": [
        "n = int(input(\"Enter the number of students: \"))\n",
        "student_marks = {}\n",
        "for _ in range(n):\n",
        "  name, *line = input(\"Enter the name of student followed by marks: \").split()\n",
        "  scores = list(map(float, line))\n",
        "  student_marks[name] = scores\n",
        "query_name = input(\"Enter the student's name whose percentage is to be found: \")\n",
        "output = list(student_marks[query_name])\n",
        "per = sum(output)/len(output);\n",
        "print(\"%.2f\" % per);"
      ],
      "metadata": {
        "colab": {
          "base_uri": "https://localhost:8080/"
        },
        "id": "k_lFYqpEuBl1",
        "outputId": "4fd1dd60-3336-4670-c4be-70133fb1dfa6"
      },
      "execution_count": 5,
      "outputs": [
        {
          "output_type": "stream",
          "name": "stdout",
          "text": [
            "Enter the number of students: 2\n",
            "Enter the name of student followed by marks: ab 34 56 79 23\n",
            "Enter the name of student followed by marks: bq 43 23 65 12\n",
            "Enter the student's name whose percentage is to be found: ab\n",
            "48.00\n"
          ]
        }
      ]
    }
  ]
}