{
  "nbformat": 4,
  "nbformat_minor": 0,
  "metadata": {
    "colab": {
      "provenance": []
    },
    "kernelspec": {
      "name": "python3",
      "display_name": "Python 3"
    },
    "language_info": {
      "name": "python"
    }
  },
  "cells": [
    {
      "cell_type": "markdown",
      "source": [
        "**SAY \"HELLO WORLD!\" WITH PYTHON**"
      ],
      "metadata": {
        "id": "9xr1YbOykH6n"
      }
    },
    {
      "cell_type": "code",
      "source": [
        "print(\"Hello World!\")"
      ],
      "metadata": {
        "colab": {
          "base_uri": "https://localhost:8080/"
        },
        "id": "1jGHMF0kkPKf",
        "outputId": "21ebfb3b-29f5-4bc1-c5b2-c180d1bd9502"
      },
      "execution_count": 1,
      "outputs": [
        {
          "output_type": "stream",
          "name": "stdout",
          "text": [
            "Hello World!\n"
          ]
        }
      ]
    },
    {
      "cell_type": "markdown",
      "source": [
        "**PYTHON IF-ELSE**\n",
        "\n",
        "**Task**\n",
        "\n",
        "Given an integer,n, perform the following conditional actions:\n",
        "\n",
        "If  is odd, print Weird\n",
        "\n",
        "If  is even and in the inclusive range of 2 to 5, print Not Weird\n",
        "\n",
        "If  is even and in the inclusive range of 6 to 20, print Weird\n",
        "\n",
        "If  is even and greater than 20, print Not Weird"
      ],
      "metadata": {
        "id": "HPS9MPqrkYDQ"
      }
    },
    {
      "cell_type": "code",
      "source": [
        "n = int(input(\"Enter the integer: \"))\n",
        "if n%2 !=0:\n",
        "  print(\"Weird\")\n",
        "else:\n",
        "  if n in range(2,5):\n",
        "    print(\"Not weird\")\n",
        "  if n in range(6,21):\n",
        "    print(\"Weird\")\n",
        "  if n>20:\n",
        "    print(\"Not weird\")"
      ],
      "metadata": {
        "id": "4QXQnEkWkxTN"
      },
      "execution_count": null,
      "outputs": []
    },
    {
      "cell_type": "markdown",
      "source": [
        "**ARITHMETIC OPERATORS**\n",
        "\n",
        "**TASK**\n",
        "\n",
        "Input 2 numbers from the user and code to print three lines where:\n",
        "\n",
        "The first line contains the sum of the two numbers.\n",
        "\n",
        "The second line contains the difference of the two numbers (first - second).\n",
        "\n",
        "The third line contains the product of the two numbers."
      ],
      "metadata": {
        "id": "7L3JLsCBl8x1"
      }
    },
    {
      "cell_type": "code",
      "source": [
        "a = int(input(\"Enter the first number: \"))\n",
        "b = int(input(\"Enter the second number: \"))\n",
        "print(f\"The sum of {a} and {b} is {a+b}.\")\n",
        "print(f\"The difference of {a} and {b} is {a-b}.\")\n",
        "print(f\"The product of {a} and {b} is {a*b}.\")"
      ],
      "metadata": {
        "colab": {
          "base_uri": "https://localhost:8080/"
        },
        "id": "-BMLvHx6mZ6l",
        "outputId": "2fb2fed4-84d3-4d51-84e2-539029d16e2a"
      },
      "execution_count": 6,
      "outputs": [
        {
          "output_type": "stream",
          "name": "stdout",
          "text": [
            "Enter the first number: 5\n",
            "Enter the second number: 7\n",
            "The sum of 5 and 7 is 12.\n",
            "The difference of 5 and 7 is -2.\n",
            "The product of 5 and 7 is 35.\n"
          ]
        }
      ]
    },
    {
      "cell_type": "markdown",
      "source": [
        "**PYTHON DIVISION**\n",
        "\n",
        "**TASK **\n",
        "\n",
        "Input 2 numbers from the user .Add logic to print two lines.\n",
        "\n",
        " The first line should contain the result of integer division, a//b . The second line should contain the result of float division,  a/b ."
      ],
      "metadata": {
        "id": "jZoGT0sUnJ9e"
      }
    },
    {
      "cell_type": "code",
      "source": [
        "a = int(input(\"Enter the first number: \"))\n",
        "b = int(input(\"Enter the second nuber: \"))\n",
        "print(f\"the result of integer division of {a} and {b} is {a//b}.\")\n",
        "print(f\"The result of float division of {a} and {b} is {a/b}\")"
      ],
      "metadata": {
        "colab": {
          "base_uri": "https://localhost:8080/"
        },
        "id": "56Vpf97Tnscs",
        "outputId": "673568dc-7060-434c-e31d-acf68e863c70"
      },
      "execution_count": 7,
      "outputs": [
        {
          "output_type": "stream",
          "name": "stdout",
          "text": [
            "Enter the first number: 7\n",
            "Enter the second nuber: 5\n",
            "the result of integer division of 7 and 5 is 1.\n",
            "The result of float division of 7 and 5 is 1.4\n"
          ]
        }
      ]
    },
    {
      "cell_type": "markdown",
      "source": [
        "**LOOPS**\n",
        "\n",
        "**TASK**\n",
        "\n",
        "Input an integer n. For all the values of i <n, print i**2"
      ],
      "metadata": {
        "id": "26B4h2i1oRtI"
      }
    },
    {
      "cell_type": "code",
      "source": [
        "n = int(input(\"Enter an integer greater than 0: \"))\n",
        "for _ in range(n):\n",
        "  print(_**2)"
      ],
      "metadata": {
        "colab": {
          "base_uri": "https://localhost:8080/"
        },
        "id": "JemEKpxvot_N",
        "outputId": "6be82dd1-1dc5-43d6-adf7-befe05e399c0"
      },
      "execution_count": 8,
      "outputs": [
        {
          "output_type": "stream",
          "name": "stdout",
          "text": [
            "Enter an integer greater than 0: 3\n",
            "0\n",
            "1\n",
            "4\n"
          ]
        }
      ]
    },
    {
      "cell_type": "markdown",
      "source": [
        "**WRITE A FUNCTIION**\n",
        "\n",
        "**TASK**\n",
        "\n",
        "An extra day is added to the calendar almost every four years as February 29, and the day is called a leap day. It corrects the calendar for the fact that our planet takes approximately 365.25 days to orbit the sun. A leap year contains a leap day.\n",
        "\n",
        "In the Gregorian calendar, three conditions are used to identify leap years:\n",
        "\n",
        "The year can be evenly divided by 4, is a leap year, unless:\n",
        "The year can be evenly divided by 100, it is NOT a leap year, unless:\n",
        "The year is also evenly divisible by 400. Then it is a leap year.\n",
        "This means that in the Gregorian calendar, the years 2000 and 2400 are leap years, while 1800, 1900, 2100, 2200, 2300 and 2500 are NOT leap years.\n",
        "\n",
        "**Given a year, determine whether it is a leap year. If it is a leap year, return the Boolean True, otherwise return False.**"
      ],
      "metadata": {
        "id": "ajJJErCSpG0S"
      }
    },
    {
      "cell_type": "code",
      "source": [
        "def is_leap(year):\n",
        "  if (year %4 == 0 and year %100 !=0) or (year %4 == 0 and year %400 ==0):\n",
        "    return True\n",
        "  else:\n",
        "    return False\n",
        "\n",
        "n = int(input(\"Enter the year: \"))\n",
        "print(is_leap(n))"
      ],
      "metadata": {
        "colab": {
          "base_uri": "https://localhost:8080/"
        },
        "id": "EV_tC9ddpaOY",
        "outputId": "375b8216-1d4c-4572-a54c-98a4a43d9c32"
      },
      "execution_count": 10,
      "outputs": [
        {
          "output_type": "stream",
          "name": "stdout",
          "text": [
            "Enter the year: 1800\n",
            "False\n"
          ]
        }
      ]
    },
    {
      "cell_type": "markdown",
      "source": [
        "**PRINT FUNCTION**\n",
        "\n",
        "**TASK**\n",
        "\n",
        "Without using any string methods, try to print the following:\n",
        "\n",
        "123...n"
      ],
      "metadata": {
        "id": "aoNTPkGjqiKp"
      }
    },
    {
      "cell_type": "code",
      "source": [
        "n = int(input(\"Enter a number: \"))\n",
        "for i in range(1,n+1):\n",
        "  print (i, end =\"\")\n",
        "  # The end=\"\" argument is used to override the default newline character and keep the numbers on the same line.\n",
        "print()\n",
        "#This line is included to print a newline character after the loop has completed. It ensures that the next output will start on a new line."
      ],
      "metadata": {
        "colab": {
          "base_uri": "https://localhost:8080/"
        },
        "id": "sEiN6Tpkq5KG",
        "outputId": "fdb13f08-30d5-44da-fdb7-93ee9ba532e0"
      },
      "execution_count": 23,
      "outputs": [
        {
          "output_type": "stream",
          "name": "stdout",
          "text": [
            "Enter a number: 9\n",
            "123456789\n"
          ]
        }
      ]
    }
  ]
}